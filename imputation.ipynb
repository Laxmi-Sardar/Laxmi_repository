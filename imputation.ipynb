{
 "cells": [
  {
   "cell_type": "code",
   "execution_count": 10,
   "id": "c739be60-237f-41da-b90b-c166baa75814",
   "metadata": {},
   "outputs": [],
   "source": [
    "import pandas\n",
    "Raw_Housing_Data=pandas.read_csv(\"1. Regression - Module - (Housing Prices).csv\")\n",
    "#Raw_Housing_Data\n",
    "Raw_Housing_Data['Sale Price'].describe()\n",
    "Raw_Housing_Data.dropna(inplace=True,axis=0,subset=['Sale Price'])"
   ]
  },
  {
   "cell_type": "code",
   "execution_count": 11,
   "id": "6fd60a42-7751-43ee-bb17-a927dbeef4ee",
   "metadata": {},
   "outputs": [
    {
     "name": "stdout",
     "output_type": "stream",
     "text": [
      "<class 'pandas.core.frame.DataFrame'>\n",
      "Index: 21609 entries, 0 to 21612\n",
      "Data columns (total 21 columns):\n",
      " #   Column                                     Non-Null Count  Dtype  \n",
      "---  ------                                     --------------  -----  \n",
      " 0   ID                                         21609 non-null  int64  \n",
      " 1   Date House was Sold                        21609 non-null  object \n",
      " 2   Sale Price                                 21609 non-null  float64\n",
      " 3   No of Bedrooms                             21609 non-null  int64  \n",
      " 4   No of Bathrooms                            21605 non-null  float64\n",
      " 5   Flat Area (in Sqft)                        21600 non-null  float64\n",
      " 6   Lot Area (in Sqft)                         21600 non-null  float64\n",
      " 7   No of Floors                               21609 non-null  float64\n",
      " 8   Waterfront View                            21609 non-null  object \n",
      " 9   No of Times Visited                        2124 non-null   object \n",
      " 10  Condition of the House                     21609 non-null  object \n",
      " 11  Overall Grade                              21609 non-null  int64  \n",
      " 12  Area of the House from Basement (in Sqft)  21606 non-null  float64\n",
      " 13  Basement Area (in Sqft)                    21609 non-null  int64  \n",
      " 14  Age of House (in Years)                    21609 non-null  int64  \n",
      " 15  Renovated Year                             21609 non-null  int64  \n",
      " 16  Zipcode                                    21608 non-null  float64\n",
      " 17  Latitude                                   21608 non-null  float64\n",
      " 18  Longitude                                  21608 non-null  float64\n",
      " 19  Living Area after Renovation (in Sqft)     21608 non-null  float64\n",
      " 20  Lot Area after Renovation (in Sqft)        21609 non-null  int64  \n",
      "dtypes: float64(10), int64(7), object(4)\n",
      "memory usage: 3.6+ MB\n"
     ]
    }
   ],
   "source": [
    "Raw_Housing_Data.info()"
   ]
  },
  {
   "cell_type": "code",
   "execution_count": null,
   "id": "1ecb95d4-6049-4465-b8d2-f51d45246c33",
   "metadata": {},
   "outputs": [],
   "source": []
  },
  {
   "cell_type": "code",
   "execution_count": 12,
   "id": "ad9a3c48-2480-470f-8e4d-852be5fc7a29",
   "metadata": {},
   "outputs": [
    {
     "data": {
      "text/plain": [
       "5034"
      ]
     },
     "execution_count": 12,
     "metadata": {},
     "output_type": "execute_result"
    }
   ],
   "source": [
    "len(Raw_Housing_Data['Latitude'].unique())"
   ]
  },
  {
   "cell_type": "code",
   "execution_count": 13,
   "id": "626c5481-9af3-4fa8-b04a-e736467cca70",
   "metadata": {},
   "outputs": [
    {
     "name": "stdout",
     "output_type": "stream",
     "text": [
      "<class 'pandas.core.frame.DataFrame'>\n",
      "Index: 21609 entries, 0 to 21612\n",
      "Data columns (total 21 columns):\n",
      " #   Column                                     Non-Null Count  Dtype  \n",
      "---  ------                                     --------------  -----  \n",
      " 0   ID                                         21609 non-null  int64  \n",
      " 1   Date House was Sold                        21609 non-null  object \n",
      " 2   Sale Price                                 21609 non-null  float64\n",
      " 3   No of Bedrooms                             21609 non-null  int64  \n",
      " 4   No of Bathrooms                            21605 non-null  float64\n",
      " 5   Flat Area (in Sqft)                        21600 non-null  float64\n",
      " 6   Lot Area (in Sqft)                         21600 non-null  float64\n",
      " 7   No of Floors                               21609 non-null  float64\n",
      " 8   Waterfront View                            21609 non-null  object \n",
      " 9   No of Times Visited                        2124 non-null   object \n",
      " 10  Condition of the House                     21609 non-null  object \n",
      " 11  Overall Grade                              21609 non-null  int64  \n",
      " 12  Area of the House from Basement (in Sqft)  21606 non-null  float64\n",
      " 13  Basement Area (in Sqft)                    21609 non-null  int64  \n",
      " 14  Age of House (in Years)                    21609 non-null  int64  \n",
      " 15  Renovated Year                             21609 non-null  int64  \n",
      " 16  Zipcode                                    21608 non-null  float64\n",
      " 17  Latitude                                   21608 non-null  float64\n",
      " 18  Longitude                                  21608 non-null  float64\n",
      " 19  Living Area after Renovation (in Sqft)     21608 non-null  float64\n",
      " 20  Lot Area after Renovation (in Sqft)        21609 non-null  int64  \n",
      "dtypes: float64(10), int64(7), object(4)\n",
      "memory usage: 3.6+ MB\n"
     ]
    }
   ],
   "source": [
    "Raw_Housing_Data.info()"
   ]
  },
  {
   "cell_type": "code",
   "execution_count": 21,
   "id": "f72f2dce-6612-47e1-bbd5-8dc221bc3e2a",
   "metadata": {},
   "outputs": [],
   "source": [
    "numerical_columns=['No of Bathrooms', 'Flat Area (in Sqft)','Lot Area (in Sqft)',\n",
    "                   ' Area of the House from Basement (in Sqft)','Latitude',\n",
    "                   'Longitude',' Living Area after Renovation (in Sqft)']"
   ]
  },
  {
   "cell_type": "code",
   "execution_count": 26,
   "id": "c11a737e-cef4-4852-a43c-21556c692bb8",
   "metadata": {},
   "outputs": [
    {
     "ename": "KeyError",
     "evalue": "\"[' Flat Area (in Sqft)', ' Area of the House from Basement (in Sqft)', ' Living Area after Renovation (in Sqft)'] not in index\"",
     "output_type": "error",
     "traceback": [
      "\u001b[1;31m---------------------------------------------------------------------------\u001b[0m",
      "\u001b[1;31mKeyError\u001b[0m                                  Traceback (most recent call last)",
      "Cell \u001b[1;32mIn[26], line 4\u001b[0m\n\u001b[0;32m      2\u001b[0m \u001b[38;5;28;01mimport\u001b[39;00m \u001b[38;5;21;01mnumpy\u001b[39;00m \u001b[38;5;28;01mas\u001b[39;00m \u001b[38;5;21;01mnp\u001b[39;00m\n\u001b[0;32m      3\u001b[0m imputer\u001b[38;5;241m=\u001b[39mSimpleImputer(missing_values\u001b[38;5;241m=\u001b[39mnp\u001b[38;5;241m.\u001b[39mnan,strategy\u001b[38;5;241m=\u001b[39m\u001b[38;5;124m'\u001b[39m\u001b[38;5;124mmedian\u001b[39m\u001b[38;5;124m'\u001b[39m)\n\u001b[1;32m----> 4\u001b[0m Raw_Housing_Data[numerical_columns]\u001b[38;5;241m=\u001b[39mimputer\u001b[38;5;241m.\u001b[39mfit_transform(Raw_Housing_Data[numerical_columns])\n",
      "File \u001b[1;32m~\\anaconda3\\Lib\\site-packages\\pandas\\core\\frame.py:4096\u001b[0m, in \u001b[0;36mDataFrame.__getitem__\u001b[1;34m(self, key)\u001b[0m\n\u001b[0;32m   4094\u001b[0m     \u001b[38;5;28;01mif\u001b[39;00m is_iterator(key):\n\u001b[0;32m   4095\u001b[0m         key \u001b[38;5;241m=\u001b[39m \u001b[38;5;28mlist\u001b[39m(key)\n\u001b[1;32m-> 4096\u001b[0m     indexer \u001b[38;5;241m=\u001b[39m \u001b[38;5;28mself\u001b[39m\u001b[38;5;241m.\u001b[39mcolumns\u001b[38;5;241m.\u001b[39m_get_indexer_strict(key, \u001b[38;5;124m\"\u001b[39m\u001b[38;5;124mcolumns\u001b[39m\u001b[38;5;124m\"\u001b[39m)[\u001b[38;5;241m1\u001b[39m]\n\u001b[0;32m   4098\u001b[0m \u001b[38;5;66;03m# take() does not accept boolean indexers\u001b[39;00m\n\u001b[0;32m   4099\u001b[0m \u001b[38;5;28;01mif\u001b[39;00m \u001b[38;5;28mgetattr\u001b[39m(indexer, \u001b[38;5;124m\"\u001b[39m\u001b[38;5;124mdtype\u001b[39m\u001b[38;5;124m\"\u001b[39m, \u001b[38;5;28;01mNone\u001b[39;00m) \u001b[38;5;241m==\u001b[39m \u001b[38;5;28mbool\u001b[39m:\n",
      "File \u001b[1;32m~\\anaconda3\\Lib\\site-packages\\pandas\\core\\indexes\\base.py:6200\u001b[0m, in \u001b[0;36mIndex._get_indexer_strict\u001b[1;34m(self, key, axis_name)\u001b[0m\n\u001b[0;32m   6197\u001b[0m \u001b[38;5;28;01melse\u001b[39;00m:\n\u001b[0;32m   6198\u001b[0m     keyarr, indexer, new_indexer \u001b[38;5;241m=\u001b[39m \u001b[38;5;28mself\u001b[39m\u001b[38;5;241m.\u001b[39m_reindex_non_unique(keyarr)\n\u001b[1;32m-> 6200\u001b[0m \u001b[38;5;28mself\u001b[39m\u001b[38;5;241m.\u001b[39m_raise_if_missing(keyarr, indexer, axis_name)\n\u001b[0;32m   6202\u001b[0m keyarr \u001b[38;5;241m=\u001b[39m \u001b[38;5;28mself\u001b[39m\u001b[38;5;241m.\u001b[39mtake(indexer)\n\u001b[0;32m   6203\u001b[0m \u001b[38;5;28;01mif\u001b[39;00m \u001b[38;5;28misinstance\u001b[39m(key, Index):\n\u001b[0;32m   6204\u001b[0m     \u001b[38;5;66;03m# GH 42790 - Preserve name from an Index\u001b[39;00m\n",
      "File \u001b[1;32m~\\anaconda3\\Lib\\site-packages\\pandas\\core\\indexes\\base.py:6252\u001b[0m, in \u001b[0;36mIndex._raise_if_missing\u001b[1;34m(self, key, indexer, axis_name)\u001b[0m\n\u001b[0;32m   6249\u001b[0m     \u001b[38;5;28;01mraise\u001b[39;00m \u001b[38;5;167;01mKeyError\u001b[39;00m(\u001b[38;5;124mf\u001b[39m\u001b[38;5;124m\"\u001b[39m\u001b[38;5;124mNone of [\u001b[39m\u001b[38;5;132;01m{\u001b[39;00mkey\u001b[38;5;132;01m}\u001b[39;00m\u001b[38;5;124m] are in the [\u001b[39m\u001b[38;5;132;01m{\u001b[39;00maxis_name\u001b[38;5;132;01m}\u001b[39;00m\u001b[38;5;124m]\u001b[39m\u001b[38;5;124m\"\u001b[39m)\n\u001b[0;32m   6251\u001b[0m not_found \u001b[38;5;241m=\u001b[39m \u001b[38;5;28mlist\u001b[39m(ensure_index(key)[missing_mask\u001b[38;5;241m.\u001b[39mnonzero()[\u001b[38;5;241m0\u001b[39m]]\u001b[38;5;241m.\u001b[39munique())\n\u001b[1;32m-> 6252\u001b[0m \u001b[38;5;28;01mraise\u001b[39;00m \u001b[38;5;167;01mKeyError\u001b[39;00m(\u001b[38;5;124mf\u001b[39m\u001b[38;5;124m\"\u001b[39m\u001b[38;5;132;01m{\u001b[39;00mnot_found\u001b[38;5;132;01m}\u001b[39;00m\u001b[38;5;124m not in index\u001b[39m\u001b[38;5;124m\"\u001b[39m)\n",
      "\u001b[1;31mKeyError\u001b[0m: \"[' Flat Area (in Sqft)', ' Area of the House from Basement (in Sqft)', ' Living Area after Renovation (in Sqft)'] not in index\""
     ]
    }
   ],
   "source": [
    "from sklearn.impute import SimpleImputer\n",
    "import numpy as np\n",
    "imputer=SimpleImputer(missing_values=np.nan,strategy='median')\n",
    "Raw_Housing_Data[numerical_columns]=imputer.fit_transform(Raw_Housing_Data[numerical_columns])"
   ]
  },
  {
   "cell_type": "code",
   "execution_count": 20,
   "id": "e10f3797-22d4-4fe0-b8c6-4c16faf2225c",
   "metadata": {},
   "outputs": [
    {
     "name": "stdout",
     "output_type": "stream",
     "text": [
      "<class 'pandas.core.frame.DataFrame'>\n",
      "Index: 21609 entries, 0 to 21612\n",
      "Data columns (total 21 columns):\n",
      " #   Column                                     Non-Null Count  Dtype  \n",
      "---  ------                                     --------------  -----  \n",
      " 0   ID                                         21609 non-null  int64  \n",
      " 1   Date House was Sold                        21609 non-null  object \n",
      " 2   Sale Price                                 21609 non-null  float64\n",
      " 3   No of Bedrooms                             21609 non-null  int64  \n",
      " 4   No of Bathrooms                            21605 non-null  float64\n",
      " 5   Flat Area (in Sqft)                        21600 non-null  float64\n",
      " 6   Lot Area (in Sqft)                         21600 non-null  float64\n",
      " 7   No of Floors                               21609 non-null  float64\n",
      " 8   Waterfront View                            21609 non-null  object \n",
      " 9   No of Times Visited                        2124 non-null   object \n",
      " 10  Condition of the House                     21609 non-null  object \n",
      " 11  Overall Grade                              21609 non-null  int64  \n",
      " 12  Area of the House from Basement (in Sqft)  21606 non-null  float64\n",
      " 13  Basement Area (in Sqft)                    21609 non-null  int64  \n",
      " 14  Age of House (in Years)                    21609 non-null  int64  \n",
      " 15  Renovated Year                             21609 non-null  int64  \n",
      " 16  Zipcode                                    21608 non-null  float64\n",
      " 17  Latitude                                   21608 non-null  float64\n",
      " 18  Longitude                                  21608 non-null  float64\n",
      " 19  Living Area after Renovation (in Sqft)     21608 non-null  float64\n",
      " 20  Lot Area after Renovation (in Sqft)        21609 non-null  int64  \n",
      "dtypes: float64(10), int64(7), object(4)\n",
      "memory usage: 3.6+ MB\n"
     ]
    }
   ],
   "source": [
    "Raw_Housing_Data.info()"
   ]
  },
  {
   "cell_type": "code",
   "execution_count": 38,
   "id": "52b88a72-0514-4b97-ae30-a52fd0b6fe34",
   "metadata": {},
   "outputs": [
    {
     "name": "stdout",
     "output_type": "stream",
     "text": [
      "<class 'pandas.core.frame.DataFrame'>\n",
      "RangeIndex: 21609 entries, 0 to 21608\n",
      "Data columns (total 21 columns):\n",
      " #   Column                                     Non-Null Count  Dtype  \n",
      "---  ------                                     --------------  -----  \n",
      " 0   ID                                         21609 non-null  int64  \n",
      " 1   Date House was Sold                        21609 non-null  object \n",
      " 2   Sale Price                                 21609 non-null  float64\n",
      " 3   No of Bedrooms                             21609 non-null  int64  \n",
      " 4   No of Bathrooms                            21605 non-null  float64\n",
      " 5   Flat Area (in Sqft)                        21600 non-null  float64\n",
      " 6   Lot Area (in Sqft)                         21600 non-null  float64\n",
      " 7   No of Floors                               21609 non-null  float64\n",
      " 8   Waterfront View                            21609 non-null  object \n",
      " 9   No of Times Visited                        2124 non-null   object \n",
      " 10  Condition of the House                     21609 non-null  object \n",
      " 11  Overall Grade                              21609 non-null  int64  \n",
      " 12  Area of the House from Basement (in Sqft)  21606 non-null  float64\n",
      " 13  Basement Area (in Sqft)                    21609 non-null  int64  \n",
      " 14  Age of House (in Years)                    21609 non-null  int64  \n",
      " 15  Renovated Year                             21609 non-null  int64  \n",
      " 16  Zipcode                                    21608 non-null  float64\n",
      " 17  Latitude                                   21608 non-null  float64\n",
      " 18  Longitude                                  21608 non-null  float64\n",
      " 19  Living Area after Renovation (in Sqft)     21608 non-null  float64\n",
      " 20  Lot Area after Renovation (in Sqft)        21609 non-null  int64  \n",
      "dtypes: float64(10), int64(7), object(4)\n",
      "memory usage: 3.5+ MB\n"
     ]
    }
   ],
   "source": [
    "import pandas\n",
    "Raw_Housing_Data=pandas.read_csv(\"Raw_Housing_Prices2.csv\")\n",
    "Raw_Housing_Data.info()"
   ]
  },
  {
   "cell_type": "code",
   "execution_count": 39,
   "id": "83c9c5d1-a2ab-4acb-b0b7-e60ac4b8f792",
   "metadata": {},
   "outputs": [],
   "source": [
    "numerical_columns=['No of Bathrooms','Flat Area (in Sqft)','Lot Area (in Sqft)',\n",
    "                   'Area of the House from Basement (in Sqft)','Latitude',\n",
    "                   'Longitude','Living Area after Renovation (in Sqft)']"
   ]
  },
  {
   "cell_type": "code",
   "execution_count": 40,
   "id": "415e0af7-efda-4455-b7c8-47adf4a17688",
   "metadata": {},
   "outputs": [],
   "source": [
    "import numpy as np\n",
    "from sklearn.impute import SimpleImputer\n",
    "imputer=SimpleImputer(missing_values=np.nan,strategy='median')\n",
    "Raw_Housing_Data[numerical_columns]=imputer.fit_transform(Raw_Housing_Data[numerical_columns])"
   ]
  },
  {
   "cell_type": "code",
   "execution_count": 41,
   "id": "5ad1e422-1eab-447c-ad6b-ace4880ec200",
   "metadata": {},
   "outputs": [
    {
     "name": "stdout",
     "output_type": "stream",
     "text": [
      "<class 'pandas.core.frame.DataFrame'>\n",
      "RangeIndex: 21609 entries, 0 to 21608\n",
      "Data columns (total 21 columns):\n",
      " #   Column                                     Non-Null Count  Dtype  \n",
      "---  ------                                     --------------  -----  \n",
      " 0   ID                                         21609 non-null  int64  \n",
      " 1   Date House was Sold                        21609 non-null  object \n",
      " 2   Sale Price                                 21609 non-null  float64\n",
      " 3   No of Bedrooms                             21609 non-null  int64  \n",
      " 4   No of Bathrooms                            21609 non-null  float64\n",
      " 5   Flat Area (in Sqft)                        21609 non-null  float64\n",
      " 6   Lot Area (in Sqft)                         21609 non-null  float64\n",
      " 7   No of Floors                               21609 non-null  float64\n",
      " 8   Waterfront View                            21609 non-null  object \n",
      " 9   No of Times Visited                        2124 non-null   object \n",
      " 10  Condition of the House                     21609 non-null  object \n",
      " 11  Overall Grade                              21609 non-null  int64  \n",
      " 12  Area of the House from Basement (in Sqft)  21609 non-null  float64\n",
      " 13  Basement Area (in Sqft)                    21609 non-null  int64  \n",
      " 14  Age of House (in Years)                    21609 non-null  int64  \n",
      " 15  Renovated Year                             21609 non-null  int64  \n",
      " 16  Zipcode                                    21608 non-null  float64\n",
      " 17  Latitude                                   21609 non-null  float64\n",
      " 18  Longitude                                  21609 non-null  float64\n",
      " 19  Living Area after Renovation (in Sqft)     21609 non-null  float64\n",
      " 20  Lot Area after Renovation (in Sqft)        21609 non-null  int64  \n",
      "dtypes: float64(10), int64(7), object(4)\n",
      "memory usage: 3.5+ MB\n"
     ]
    }
   ],
   "source": [
    "Raw_Housing_Data.info()"
   ]
  },
  {
   "cell_type": "code",
   "execution_count": 42,
   "id": "6c2cc136-0a65-421b-919c-a0ee12e232cd",
   "metadata": {},
   "outputs": [
    {
     "ename": "ValueError",
     "evalue": "Expected 2D array, got 1D array instead:\narray=[98178. 98125. 98028. ... 98144. 98027. 98144.].\nReshape your data either using array.reshape(-1, 1) if your data has a single feature or array.reshape(1, -1) if it contains a single sample.",
     "output_type": "error",
     "traceback": [
      "\u001b[1;31m---------------------------------------------------------------------------\u001b[0m",
      "\u001b[1;31mValueError\u001b[0m                                Traceback (most recent call last)",
      "Cell \u001b[1;32mIn[42], line 2\u001b[0m\n\u001b[0;32m      1\u001b[0m imputer\u001b[38;5;241m=\u001b[39mSimpleImputer(missing_values\u001b[38;5;241m=\u001b[39mnp\u001b[38;5;241m.\u001b[39mnan,strategy\u001b[38;5;241m=\u001b[39m\u001b[38;5;124m'\u001b[39m\u001b[38;5;124mmost_frequent\u001b[39m\u001b[38;5;124m'\u001b[39m)\n\u001b[1;32m----> 2\u001b[0m Raw_Housing_Data[\u001b[38;5;124m'\u001b[39m\u001b[38;5;124mZipcode\u001b[39m\u001b[38;5;124m'\u001b[39m]\u001b[38;5;241m=\u001b[39mimputer\u001b[38;5;241m.\u001b[39mfit_transform(Raw_Housing_Data[\u001b[38;5;124m'\u001b[39m\u001b[38;5;124mZipcode\u001b[39m\u001b[38;5;124m'\u001b[39m])\n",
      "File \u001b[1;32m~\\anaconda3\\Lib\\site-packages\\sklearn\\utils\\_set_output.py:140\u001b[0m, in \u001b[0;36m_wrap_method_output.<locals>.wrapped\u001b[1;34m(self, X, *args, **kwargs)\u001b[0m\n\u001b[0;32m    138\u001b[0m \u001b[38;5;129m@wraps\u001b[39m(f)\n\u001b[0;32m    139\u001b[0m \u001b[38;5;28;01mdef\u001b[39;00m \u001b[38;5;21mwrapped\u001b[39m(\u001b[38;5;28mself\u001b[39m, X, \u001b[38;5;241m*\u001b[39margs, \u001b[38;5;241m*\u001b[39m\u001b[38;5;241m*\u001b[39mkwargs):\n\u001b[1;32m--> 140\u001b[0m     data_to_wrap \u001b[38;5;241m=\u001b[39m f(\u001b[38;5;28mself\u001b[39m, X, \u001b[38;5;241m*\u001b[39margs, \u001b[38;5;241m*\u001b[39m\u001b[38;5;241m*\u001b[39mkwargs)\n\u001b[0;32m    141\u001b[0m     \u001b[38;5;28;01mif\u001b[39;00m \u001b[38;5;28misinstance\u001b[39m(data_to_wrap, \u001b[38;5;28mtuple\u001b[39m):\n\u001b[0;32m    142\u001b[0m         \u001b[38;5;66;03m# only wrap the first output for cross decomposition\u001b[39;00m\n\u001b[0;32m    143\u001b[0m         \u001b[38;5;28;01mreturn\u001b[39;00m (\n\u001b[0;32m    144\u001b[0m             _wrap_data_with_container(method, data_to_wrap[\u001b[38;5;241m0\u001b[39m], X, \u001b[38;5;28mself\u001b[39m),\n\u001b[0;32m    145\u001b[0m             \u001b[38;5;241m*\u001b[39mdata_to_wrap[\u001b[38;5;241m1\u001b[39m:],\n\u001b[0;32m    146\u001b[0m         )\n",
      "File \u001b[1;32m~\\anaconda3\\Lib\\site-packages\\sklearn\\base.py:878\u001b[0m, in \u001b[0;36mTransformerMixin.fit_transform\u001b[1;34m(self, X, y, **fit_params)\u001b[0m\n\u001b[0;32m    874\u001b[0m \u001b[38;5;66;03m# non-optimized default implementation; override when a better\u001b[39;00m\n\u001b[0;32m    875\u001b[0m \u001b[38;5;66;03m# method is possible for a given clustering algorithm\u001b[39;00m\n\u001b[0;32m    876\u001b[0m \u001b[38;5;28;01mif\u001b[39;00m y \u001b[38;5;129;01mis\u001b[39;00m \u001b[38;5;28;01mNone\u001b[39;00m:\n\u001b[0;32m    877\u001b[0m     \u001b[38;5;66;03m# fit method of arity 1 (unsupervised transformation)\u001b[39;00m\n\u001b[1;32m--> 878\u001b[0m     \u001b[38;5;28;01mreturn\u001b[39;00m \u001b[38;5;28mself\u001b[39m\u001b[38;5;241m.\u001b[39mfit(X, \u001b[38;5;241m*\u001b[39m\u001b[38;5;241m*\u001b[39mfit_params)\u001b[38;5;241m.\u001b[39mtransform(X)\n\u001b[0;32m    879\u001b[0m \u001b[38;5;28;01melse\u001b[39;00m:\n\u001b[0;32m    880\u001b[0m     \u001b[38;5;66;03m# fit method of arity 2 (supervised transformation)\u001b[39;00m\n\u001b[0;32m    881\u001b[0m     \u001b[38;5;28;01mreturn\u001b[39;00m \u001b[38;5;28mself\u001b[39m\u001b[38;5;241m.\u001b[39mfit(X, y, \u001b[38;5;241m*\u001b[39m\u001b[38;5;241m*\u001b[39mfit_params)\u001b[38;5;241m.\u001b[39mtransform(X)\n",
      "File \u001b[1;32m~\\anaconda3\\Lib\\site-packages\\sklearn\\impute\\_base.py:390\u001b[0m, in \u001b[0;36mSimpleImputer.fit\u001b[1;34m(self, X, y)\u001b[0m\n\u001b[0;32m    381\u001b[0m \u001b[38;5;28;01mif\u001b[39;00m \u001b[38;5;28mself\u001b[39m\u001b[38;5;241m.\u001b[39mverbose \u001b[38;5;241m!=\u001b[39m \u001b[38;5;124m\"\u001b[39m\u001b[38;5;124mdeprecated\u001b[39m\u001b[38;5;124m\"\u001b[39m:\n\u001b[0;32m    382\u001b[0m     warnings\u001b[38;5;241m.\u001b[39mwarn(\n\u001b[0;32m    383\u001b[0m         \u001b[38;5;124m\"\u001b[39m\u001b[38;5;124mThe \u001b[39m\u001b[38;5;124m'\u001b[39m\u001b[38;5;124mverbose\u001b[39m\u001b[38;5;124m'\u001b[39m\u001b[38;5;124m parameter was deprecated in version \u001b[39m\u001b[38;5;124m\"\u001b[39m\n\u001b[0;32m    384\u001b[0m         \u001b[38;5;124m\"\u001b[39m\u001b[38;5;124m1.1 and will be removed in 1.3. A warning will \u001b[39m\u001b[38;5;124m\"\u001b[39m\n\u001b[1;32m   (...)\u001b[0m\n\u001b[0;32m    387\u001b[0m         \u001b[38;5;167;01mFutureWarning\u001b[39;00m,\n\u001b[0;32m    388\u001b[0m     )\n\u001b[1;32m--> 390\u001b[0m X \u001b[38;5;241m=\u001b[39m \u001b[38;5;28mself\u001b[39m\u001b[38;5;241m.\u001b[39m_validate_input(X, in_fit\u001b[38;5;241m=\u001b[39m\u001b[38;5;28;01mTrue\u001b[39;00m)\n\u001b[0;32m    392\u001b[0m \u001b[38;5;66;03m# default fill_value is 0 for numerical input and \"missing_value\"\u001b[39;00m\n\u001b[0;32m    393\u001b[0m \u001b[38;5;66;03m# otherwise\u001b[39;00m\n\u001b[0;32m    394\u001b[0m \u001b[38;5;28;01mif\u001b[39;00m \u001b[38;5;28mself\u001b[39m\u001b[38;5;241m.\u001b[39mfill_value \u001b[38;5;129;01mis\u001b[39;00m \u001b[38;5;28;01mNone\u001b[39;00m:\n",
      "File \u001b[1;32m~\\anaconda3\\Lib\\site-packages\\sklearn\\impute\\_base.py:344\u001b[0m, in \u001b[0;36mSimpleImputer._validate_input\u001b[1;34m(self, X, in_fit)\u001b[0m\n\u001b[0;32m    342\u001b[0m         \u001b[38;5;28;01mraise\u001b[39;00m new_ve \u001b[38;5;28;01mfrom\u001b[39;00m \u001b[38;5;28;01mNone\u001b[39;00m\n\u001b[0;32m    343\u001b[0m     \u001b[38;5;28;01melse\u001b[39;00m:\n\u001b[1;32m--> 344\u001b[0m         \u001b[38;5;28;01mraise\u001b[39;00m ve\n\u001b[0;32m    346\u001b[0m \u001b[38;5;28;01mif\u001b[39;00m in_fit:\n\u001b[0;32m    347\u001b[0m     \u001b[38;5;66;03m# Use the dtype seen in `fit` for non-`fit` conversion\u001b[39;00m\n\u001b[0;32m    348\u001b[0m     \u001b[38;5;28mself\u001b[39m\u001b[38;5;241m.\u001b[39m_fit_dtype \u001b[38;5;241m=\u001b[39m X\u001b[38;5;241m.\u001b[39mdtype\n",
      "File \u001b[1;32m~\\anaconda3\\Lib\\site-packages\\sklearn\\impute\\_base.py:327\u001b[0m, in \u001b[0;36mSimpleImputer._validate_input\u001b[1;34m(self, X, in_fit)\u001b[0m\n\u001b[0;32m    324\u001b[0m     force_all_finite \u001b[38;5;241m=\u001b[39m \u001b[38;5;28;01mTrue\u001b[39;00m\n\u001b[0;32m    326\u001b[0m \u001b[38;5;28;01mtry\u001b[39;00m:\n\u001b[1;32m--> 327\u001b[0m     X \u001b[38;5;241m=\u001b[39m \u001b[38;5;28mself\u001b[39m\u001b[38;5;241m.\u001b[39m_validate_data(\n\u001b[0;32m    328\u001b[0m         X,\n\u001b[0;32m    329\u001b[0m         reset\u001b[38;5;241m=\u001b[39min_fit,\n\u001b[0;32m    330\u001b[0m         accept_sparse\u001b[38;5;241m=\u001b[39m\u001b[38;5;124m\"\u001b[39m\u001b[38;5;124mcsc\u001b[39m\u001b[38;5;124m\"\u001b[39m,\n\u001b[0;32m    331\u001b[0m         dtype\u001b[38;5;241m=\u001b[39mdtype,\n\u001b[0;32m    332\u001b[0m         force_all_finite\u001b[38;5;241m=\u001b[39mforce_all_finite,\n\u001b[0;32m    333\u001b[0m         copy\u001b[38;5;241m=\u001b[39m\u001b[38;5;28mself\u001b[39m\u001b[38;5;241m.\u001b[39mcopy,\n\u001b[0;32m    334\u001b[0m     )\n\u001b[0;32m    335\u001b[0m \u001b[38;5;28;01mexcept\u001b[39;00m \u001b[38;5;167;01mValueError\u001b[39;00m \u001b[38;5;28;01mas\u001b[39;00m ve:\n\u001b[0;32m    336\u001b[0m     \u001b[38;5;28;01mif\u001b[39;00m \u001b[38;5;124m\"\u001b[39m\u001b[38;5;124mcould not convert\u001b[39m\u001b[38;5;124m\"\u001b[39m \u001b[38;5;129;01min\u001b[39;00m \u001b[38;5;28mstr\u001b[39m(ve):\n",
      "File \u001b[1;32m~\\anaconda3\\Lib\\site-packages\\sklearn\\base.py:565\u001b[0m, in \u001b[0;36mBaseEstimator._validate_data\u001b[1;34m(self, X, y, reset, validate_separately, **check_params)\u001b[0m\n\u001b[0;32m    563\u001b[0m     \u001b[38;5;28;01mraise\u001b[39;00m \u001b[38;5;167;01mValueError\u001b[39;00m(\u001b[38;5;124m\"\u001b[39m\u001b[38;5;124mValidation should be done on X, y or both.\u001b[39m\u001b[38;5;124m\"\u001b[39m)\n\u001b[0;32m    564\u001b[0m \u001b[38;5;28;01melif\u001b[39;00m \u001b[38;5;129;01mnot\u001b[39;00m no_val_X \u001b[38;5;129;01mand\u001b[39;00m no_val_y:\n\u001b[1;32m--> 565\u001b[0m     X \u001b[38;5;241m=\u001b[39m check_array(X, input_name\u001b[38;5;241m=\u001b[39m\u001b[38;5;124m\"\u001b[39m\u001b[38;5;124mX\u001b[39m\u001b[38;5;124m\"\u001b[39m, \u001b[38;5;241m*\u001b[39m\u001b[38;5;241m*\u001b[39mcheck_params)\n\u001b[0;32m    566\u001b[0m     out \u001b[38;5;241m=\u001b[39m X\n\u001b[0;32m    567\u001b[0m \u001b[38;5;28;01melif\u001b[39;00m no_val_X \u001b[38;5;129;01mand\u001b[39;00m \u001b[38;5;129;01mnot\u001b[39;00m no_val_y:\n",
      "File \u001b[1;32m~\\anaconda3\\Lib\\site-packages\\sklearn\\utils\\validation.py:902\u001b[0m, in \u001b[0;36mcheck_array\u001b[1;34m(array, accept_sparse, accept_large_sparse, dtype, order, copy, force_all_finite, ensure_2d, allow_nd, ensure_min_samples, ensure_min_features, estimator, input_name)\u001b[0m\n\u001b[0;32m    900\u001b[0m     \u001b[38;5;66;03m# If input is 1D raise error\u001b[39;00m\n\u001b[0;32m    901\u001b[0m     \u001b[38;5;28;01mif\u001b[39;00m array\u001b[38;5;241m.\u001b[39mndim \u001b[38;5;241m==\u001b[39m \u001b[38;5;241m1\u001b[39m:\n\u001b[1;32m--> 902\u001b[0m         \u001b[38;5;28;01mraise\u001b[39;00m \u001b[38;5;167;01mValueError\u001b[39;00m(\n\u001b[0;32m    903\u001b[0m             \u001b[38;5;124m\"\u001b[39m\u001b[38;5;124mExpected 2D array, got 1D array instead:\u001b[39m\u001b[38;5;130;01m\\n\u001b[39;00m\u001b[38;5;124marray=\u001b[39m\u001b[38;5;132;01m{}\u001b[39;00m\u001b[38;5;124m.\u001b[39m\u001b[38;5;130;01m\\n\u001b[39;00m\u001b[38;5;124m\"\u001b[39m\n\u001b[0;32m    904\u001b[0m             \u001b[38;5;124m\"\u001b[39m\u001b[38;5;124mReshape your data either using array.reshape(-1, 1) if \u001b[39m\u001b[38;5;124m\"\u001b[39m\n\u001b[0;32m    905\u001b[0m             \u001b[38;5;124m\"\u001b[39m\u001b[38;5;124myour data has a single feature or array.reshape(1, -1) \u001b[39m\u001b[38;5;124m\"\u001b[39m\n\u001b[0;32m    906\u001b[0m             \u001b[38;5;124m\"\u001b[39m\u001b[38;5;124mif it contains a single sample.\u001b[39m\u001b[38;5;124m\"\u001b[39m\u001b[38;5;241m.\u001b[39mformat(array)\n\u001b[0;32m    907\u001b[0m         )\n\u001b[0;32m    909\u001b[0m \u001b[38;5;28;01mif\u001b[39;00m dtype_numeric \u001b[38;5;129;01mand\u001b[39;00m array\u001b[38;5;241m.\u001b[39mdtype\u001b[38;5;241m.\u001b[39mkind \u001b[38;5;129;01min\u001b[39;00m \u001b[38;5;124m\"\u001b[39m\u001b[38;5;124mUSV\u001b[39m\u001b[38;5;124m\"\u001b[39m:\n\u001b[0;32m    910\u001b[0m     \u001b[38;5;28;01mraise\u001b[39;00m \u001b[38;5;167;01mValueError\u001b[39;00m(\n\u001b[0;32m    911\u001b[0m         \u001b[38;5;124m\"\u001b[39m\u001b[38;5;124mdtype=\u001b[39m\u001b[38;5;124m'\u001b[39m\u001b[38;5;124mnumeric\u001b[39m\u001b[38;5;124m'\u001b[39m\u001b[38;5;124m is not compatible with arrays of bytes/strings.\u001b[39m\u001b[38;5;124m\"\u001b[39m\n\u001b[0;32m    912\u001b[0m         \u001b[38;5;124m\"\u001b[39m\u001b[38;5;124mConvert your data to numeric values explicitly instead.\u001b[39m\u001b[38;5;124m\"\u001b[39m\n\u001b[0;32m    913\u001b[0m     )\n",
      "\u001b[1;31mValueError\u001b[0m: Expected 2D array, got 1D array instead:\narray=[98178. 98125. 98028. ... 98144. 98027. 98144.].\nReshape your data either using array.reshape(-1, 1) if your data has a single feature or array.reshape(1, -1) if it contains a single sample."
     ]
    }
   ],
   "source": [
    "imputer=SimpleImputer(missing_values=np.nan,strategy='most_frequent')\n",
    "Raw_Housing_Data['Zipcode']=imputer.fit_transform(Raw_Housing_Data['Zipcode'])"
   ]
  },
  {
   "cell_type": "code",
   "execution_count": 44,
   "id": "8e56613d-019b-4d14-b1c4-30ecd1db35e1",
   "metadata": {},
   "outputs": [
    {
     "data": {
      "text/plain": [
       "(21609,)"
      ]
     },
     "execution_count": 44,
     "metadata": {},
     "output_type": "execute_result"
    }
   ],
   "source": [
    "Raw_Housing_Data['Zipcode'].shape"
   ]
  },
  {
   "cell_type": "code",
   "execution_count": 46,
   "id": "d07bc902-169d-4180-a7d8-37a2231a1bd1",
   "metadata": {},
   "outputs": [
    {
     "data": {
      "text/plain": [
       "(21609, 1)"
      ]
     },
     "execution_count": 46,
     "metadata": {},
     "output_type": "execute_result"
    }
   ],
   "source": [
    "column=Raw_Housing_Data['Zipcode'].values.reshape(-1,1)\n",
    "column.shape"
   ]
  },
  {
   "cell_type": "code",
   "execution_count": 48,
   "id": "e2260c6b-c89e-411a-a96a-3da7a44615f0",
   "metadata": {},
   "outputs": [],
   "source": [
    "column=Raw_Housing_Data['Zipcode'].values.reshape(-1,1)\n",
    "imputer=SimpleImputer(missing_values=np.nan,strategy='most_frequent')\n",
    "Raw_Housing_Data['Zipcode']=imputer.fit_transform(column)"
   ]
  },
  {
   "cell_type": "code",
   "execution_count": 49,
   "id": "51edf58e-a1c3-427f-84d9-e1669f67b2d6",
   "metadata": {},
   "outputs": [
    {
     "name": "stdout",
     "output_type": "stream",
     "text": [
      "<class 'pandas.core.frame.DataFrame'>\n",
      "RangeIndex: 21609 entries, 0 to 21608\n",
      "Data columns (total 21 columns):\n",
      " #   Column                                     Non-Null Count  Dtype  \n",
      "---  ------                                     --------------  -----  \n",
      " 0   ID                                         21609 non-null  int64  \n",
      " 1   Date House was Sold                        21609 non-null  object \n",
      " 2   Sale Price                                 21609 non-null  float64\n",
      " 3   No of Bedrooms                             21609 non-null  int64  \n",
      " 4   No of Bathrooms                            21609 non-null  float64\n",
      " 5   Flat Area (in Sqft)                        21609 non-null  float64\n",
      " 6   Lot Area (in Sqft)                         21609 non-null  float64\n",
      " 7   No of Floors                               21609 non-null  float64\n",
      " 8   Waterfront View                            21609 non-null  object \n",
      " 9   No of Times Visited                        2124 non-null   object \n",
      " 10  Condition of the House                     21609 non-null  object \n",
      " 11  Overall Grade                              21609 non-null  int64  \n",
      " 12  Area of the House from Basement (in Sqft)  21609 non-null  float64\n",
      " 13  Basement Area (in Sqft)                    21609 non-null  int64  \n",
      " 14  Age of House (in Years)                    21609 non-null  int64  \n",
      " 15  Renovated Year                             21609 non-null  int64  \n",
      " 16  Zipcode                                    21609 non-null  float64\n",
      " 17  Latitude                                   21609 non-null  float64\n",
      " 18  Longitude                                  21609 non-null  float64\n",
      " 19  Living Area after Renovation (in Sqft)     21609 non-null  float64\n",
      " 20  Lot Area after Renovation (in Sqft)        21609 non-null  int64  \n",
      "dtypes: float64(10), int64(7), object(4)\n",
      "memory usage: 3.5+ MB\n"
     ]
    }
   ],
   "source": [
    "Raw_Housing_Data.info()"
   ]
  }
 ],
 "metadata": {
  "kernelspec": {
   "display_name": "Python 3 (ipykernel)",
   "language": "python",
   "name": "python3"
  },
  "language_info": {
   "codemirror_mode": {
    "name": "ipython",
    "version": 3
   },
   "file_extension": ".py",
   "mimetype": "text/x-python",
   "name": "python",
   "nbconvert_exporter": "python",
   "pygments_lexer": "ipython3",
   "version": "3.11.7"
  }
 },
 "nbformat": 4,
 "nbformat_minor": 5
}
