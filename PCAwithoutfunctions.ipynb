{
 "cells": [
  {
   "cell_type": "code",
   "execution_count": 1,
   "id": "4d52451a-c911-4a71-9bb3-389b7de44183",
   "metadata": {},
   "outputs": [],
   "source": [
    "import numpy as np"
   ]
  },
  {
   "cell_type": "code",
   "execution_count": 2,
   "id": "a3d46799-9363-4b82-8197-5c75b33a567c",
   "metadata": {},
   "outputs": [],
   "source": [
    "a=[9,11]  #feature 1\n",
    "b=[12,13]   #feature 2\n",
    "sum1=0\n",
    "for i in a:\n",
    "    sum1=sum1+i\n"
   ]
  },
  {
   "cell_type": "code",
   "execution_count": 3,
   "id": "c7589262-290e-4d4f-9072-5297e0dfe819",
   "metadata": {},
   "outputs": [],
   "source": [
    "sum2=0\n",
    "for i in b:\n",
    "    sum2=sum2+i"
   ]
  },
  {
   "cell_type": "code",
   "execution_count": 4,
   "id": "a04516dc-09b3-47a6-983b-d7bca9e66a43",
   "metadata": {},
   "outputs": [
    {
     "name": "stdout",
     "output_type": "stream",
     "text": [
      "10.0\n",
      "12.5\n"
     ]
    }
   ],
   "source": [
    "m1=sum1/2\n",
    "m2=sum2/2\n",
    "print(m1)\n",
    "print(m2)"
   ]
  },
  {
   "cell_type": "code",
   "execution_count": 5,
   "id": "216d942b-af78-40f1-b6fe-f5b1cc1f9594",
   "metadata": {},
   "outputs": [
    {
     "name": "stdout",
     "output_type": "stream",
     "text": [
      "[-1.0, 1.0]\n",
      "[-0.5, 0.5]\n",
      "[[-1.0, 1.0], [-0.5, 0.5]]\n"
     ]
    }
   ],
   "source": [
    "cov_mat=[0 for i in range(2)]\n",
    "B=[0 for i in range(2)]\n",
    "for i in range(2):\n",
    "    cov_mat[i]=a[i]-m1\n",
    "    B[i]=b[i]-m2\n",
    "print(cov_mat)\n",
    "print(B)\n",
    "#intializing the temp matrix for later use\n",
    "temp=[]\n",
    "temp.append(cov_mat)\n",
    "temp.append(B)\n",
    "print(temp)"
   ]
  },
  {
   "cell_type": "code",
   "execution_count": 6,
   "id": "cc14bb9e-9af8-4d12-9640-5ae0a46be477",
   "metadata": {},
   "outputs": [
    {
     "name": "stdout",
     "output_type": "stream",
     "text": [
      "2.0\n",
      "0.5\n"
     ]
    }
   ],
   "source": [
    "v1=0\n",
    "for i in range(2):\n",
    "    v1+=cov_mat[i]**2\n",
    "v2=0\n",
    "for i in range(2):\n",
    "    v2+=B[i]**2\n",
    "# divide variances by 1 i.e n-1\n",
    "var1=v1/1\n",
    "var2=v2/1\n",
    "print(var1)\n",
    "print(var2)"
   ]
  },
  {
   "cell_type": "code",
   "execution_count": 7,
   "id": "4c7d5f26-a3c4-4e9c-88e4-05561db48bf3",
   "metadata": {},
   "outputs": [
    {
     "name": "stdout",
     "output_type": "stream",
     "text": [
      "1.0\n"
     ]
    }
   ],
   "source": [
    "sum_cov=0\n",
    "for i in range(2):\n",
    "    sum_cov+=cov_mat[i]*B[i]\n",
    "cov=sum_cov/1\n",
    "print(cov)"
   ]
  },
  {
   "cell_type": "code",
   "execution_count": 8,
   "id": "e9244064-d0be-4f07-a4bd-e99d281c7f2d",
   "metadata": {},
   "outputs": [
    {
     "name": "stdout",
     "output_type": "stream",
     "text": [
      "[[2.0, 1.0], [1.0, 0.5]]\n"
     ]
    }
   ],
   "source": [
    "cov_mat=[[var1,cov],[cov,var2]]\n",
    "print(cov_mat)"
   ]
  },
  {
   "cell_type": "code",
   "execution_count": 9,
   "id": "7b167f24-d8a5-41a8-899e-dbf38ac73569",
   "metadata": {},
   "outputs": [],
   "source": [
    "A=np.array([[cov_mat[0][0],cov_mat[0][1]],[cov_mat[1][0],cov_mat[1][1]]])\n",
    "def eigenvalues(matrix):\n",
    "    a=1\n",
    "    b=-(matrix[0][0]+matrix[1][1])\n",
    "    c=matrix[0][0]*matrix[1][1]-(matrix[1][0])\n",
    "\n",
    "    discriminant=b**2-4*a*c\n",
    "    lambda1=(-b +np.sqrt(discriminant))/(2*a)\n",
    "    lambda2=(-b -np.sqrt(discriminant))/(2*a)\n",
    "    return lambda1,lambda2"
   ]
  },
  {
   "cell_type": "code",
   "execution_count": 10,
   "id": "79652cbc-8154-488a-a7ef-6c6b16b2c1c7",
   "metadata": {},
   "outputs": [
    {
     "name": "stdout",
     "output_type": "stream",
     "text": [
      "Eigen values  are :  2.5 0.0\n"
     ]
    }
   ],
   "source": [
    "lambda1,lambda2=eigenvalues(A)\n",
    "print(\"Eigen values  are : \",lambda1,lambda2)"
   ]
  },
  {
   "cell_type": "code",
   "execution_count": 11,
   "id": "d78b80f7-b5b9-4be9-acfc-fe4252931140",
   "metadata": {},
   "outputs": [
    {
     "name": "stdout",
     "output_type": "stream",
     "text": [
      "Eigenvector for first lambda :   [[1], [0.5]]\n",
      "Eigenvector for second lambda :   [[1], [-2.0]]\n"
     ]
    }
   ],
   "source": [
    "def eigenvector(A,lambda1):\n",
    "    a1=A[0][0]-lambda1\n",
    "    b1=A[0][1]\n",
    "    c1=A[1][0]\n",
    "    d1=A[1][1]-lambda1\n",
    "    vect2=[[a1,b1],[c1,d1]]\n",
    "    v=[[1],[-a1/b1]]\n",
    "    return v\n",
    "A1=A\n",
    "B1=A\n",
    "v1=eigenvector(A1,lambda1)\n",
    "print(\"Eigenvector for first lambda :  \",v1)\n",
    "v2=eigenvector(B1,lambda2)\n",
    "print(\"Eigenvector for second lambda :  \",v2)\n",
    "\n",
    "\n",
    "    "
   ]
  },
  {
   "cell_type": "code",
   "execution_count": 12,
   "id": "e13ad8b4-39cf-4da2-88d2-a9bb26245e42",
   "metadata": {},
   "outputs": [
    {
     "name": "stdout",
     "output_type": "stream",
     "text": [
      "[[[1], [0.5]], [[1], [-2.0]]]\n"
     ]
    }
   ],
   "source": [
    "AF=[]\n",
    "if lambda1>=lambda2:\n",
    "    AF.append(v1)\n",
    "    AF.append(v2)\n",
    "else:\n",
    "    AF.append(v2)\n",
    "    AF.append(v1)\n",
    "\n",
    "\n",
    "print(AF)"
   ]
  },
  {
   "cell_type": "code",
   "execution_count": 13,
   "id": "8a94e641-8c6b-4e2a-8a68-c5730bbc6c79",
   "metadata": {},
   "outputs": [
    {
     "name": "stdout",
     "output_type": "stream",
     "text": [
      "[[-0.5]\n",
      " [-3. ]]\n",
      "[[-0.25]\n",
      " [-1.5 ]]\n"
     ]
    }
   ],
   "source": [
    "#print(temp)\n",
    "#print(AF)\n",
    "pca=[]\n",
    "pca=np.dot(temp,AF)\n",
    "for i in range(2):\n",
    "    print(pca[i])"
   ]
  },
  {
   "cell_type": "code",
   "execution_count": 14,
   "id": "34b42cde-6f1b-4352-9b04-388e33f28305",
   "metadata": {},
   "outputs": [
    {
     "name": "stdout",
     "output_type": "stream",
     "text": [
      "[-0.75]\n",
      "[-4.5]\n"
     ]
    }
   ],
   "source": [
    "#doing column wise sum of matrix\n",
    "pca_sum1,pca_sum2=np.sum(pca,axis=0)\n",
    "print(pca_sum1)\n",
    "print(pca_sum2)"
   ]
  },
  {
   "cell_type": "code",
   "execution_count": 15,
   "id": "a00ebe1c-7261-44de-bf93-c85265671d5b",
   "metadata": {},
   "outputs": [
    {
     "name": "stdout",
     "output_type": "stream",
     "text": [
      "Projected PCA\n",
      "[-0.5] [-3.]\n"
     ]
    }
   ],
   "source": [
    "print(\"Projected PCA\")\n",
    "if pca_sum1>=pca_sum2:\n",
    "    print(pca[0][0],pca[0][1])\n",
    "else:\n",
    "    print(pca[1][0],pca[1][1])"
   ]
  }
 ],
 "metadata": {
  "kernelspec": {
   "display_name": "Python 3 (ipykernel)",
   "language": "python",
   "name": "python3"
  },
  "language_info": {
   "codemirror_mode": {
    "name": "ipython",
    "version": 3
   },
   "file_extension": ".py",
   "mimetype": "text/x-python",
   "name": "python",
   "nbconvert_exporter": "python",
   "pygments_lexer": "ipython3",
   "version": "3.11.7"
  }
 },
 "nbformat": 4,
 "nbformat_minor": 5
}
