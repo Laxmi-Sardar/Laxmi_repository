{
 "cells": [
  {
   "cell_type": "code",
   "execution_count": 4,
   "id": "b7fa87db-2f62-40e3-94a9-47d31c93004a",
   "metadata": {},
   "outputs": [
    {
     "name": "stdout",
     "output_type": "stream",
     "text": [
      "Train accuracy\n",
      "1.0\n",
      "Test accuracy\n",
      "0.9555555555555556\n"
     ]
    }
   ],
   "source": [
    "import pandas as pd\n",
    "import numpy as np\n",
    "from sklearn.model_selection import train_test_split\n",
    "from sklearn.tree import DecisionTreeClassifier\n",
    "from sklearn.datasets import load_iris\n",
    "from sklearn.metrics import accuracy_score\n",
    "data=load_iris()\n",
    "X=data.data\n",
    "y=data.target\n",
    "X_train,X_test,y_train,y_test,=train_test_split(X,y,random_state=50,test_size=0.3)\n",
    "clf=DecisionTreeClassifier()\n",
    "clf.fit(X_train,y_train)\n",
    "y_pred=clf.predict(X_test)\n",
    "print(\"Train accuracy\")\n",
    "print(accuracy_score(y_true=y_train,y_pred=clf.predict(X_train)))\n",
    "print(\"Test accuracy\")\n",
    "print(accuracy_score(y_true=y_test,y_pred=y_pred))"
   ]
  },
  {
   "cell_type": "code",
   "execution_count": 7,
   "id": "8295ae10-739e-4451-8ecf-7667ef2c3298",
   "metadata": {
    "tags": []
   },
   "outputs": [
    {
     "name": "stdout",
     "output_type": "stream",
     "text": [
      "Train accuracy\n",
      "0.9714285714285714\n",
      "Test accuracy\n",
      "0.9333333333333333\n"
     ]
    }
   ],
   "source": [
    "import pandas as pd\n",
    "import numpy as np\n",
    "from sklearn.model_selection import train_test_split\n",
    "from sklearn.tree import DecisionTreeClassifier\n",
    "from sklearn.datasets import load_iris\n",
    "from sklearn.metrics import accuracy_score\n",
    "from sklearn.neighbors import KNeighborsClassifier \n",
    "data=load_iris()\n",
    "X=data.data\n",
    "y=data.target\n",
    "X_train,X_test,y_train,y_test,=train_test_split(X,y,random_state=50,test_size=0.3)\n",
    "clf=KNeighborsClassifier()\n",
    "clf.fit(X_train,y_train)\n",
    "y_pred=clf.predict(X_test)\n",
    "print(\"Train accuracy\")\n",
    "print(accuracy_score(y_true=y_train,y_pred=clf.predict(X_train)))\n",
    "print(\"Test accuracy\")\n",
    "print(accuracy_score(y_true=y_test,y_pred=y_pred))"
   ]
  },
  {
   "cell_type": "code",
   "execution_count": null,
   "id": "37d7b1e0-e7ed-4136-adaa-e1fb77575359",
   "metadata": {},
   "outputs": [],
   "source": []
  }
 ],
 "metadata": {
  "kernelspec": {
   "display_name": "Python 3 (ipykernel)",
   "language": "python",
   "name": "python3"
  },
  "language_info": {
   "codemirror_mode": {
    "name": "ipython",
    "version": 3
   },
   "file_extension": ".py",
   "mimetype": "text/x-python",
   "name": "python",
   "nbconvert_exporter": "python",
   "pygments_lexer": "ipython3",
   "version": "3.10.4"
  }
 },
 "nbformat": 4,
 "nbformat_minor": 5
}
