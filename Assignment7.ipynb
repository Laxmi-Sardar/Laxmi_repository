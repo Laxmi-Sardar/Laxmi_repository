{
 "cells": [
  {
   "cell_type": "code",
   "execution_count": 1,
   "id": "fdcd4484-d591-4b6d-a0a3-0bd1b5c312da",
   "metadata": {},
   "outputs": [],
   "source": [
    "## importing necessary libraries\n",
    "import numpy as np\n",
    "import pandas as pd\n",
    "from sklearn.metrics import confusion_matrix"
   ]
  },
  {
   "cell_type": "code",
   "execution_count": 2,
   "id": "923584f2-b4d7-41d6-bd81-2ef161107a9a",
   "metadata": {},
   "outputs": [
    {
     "data": {
      "text/plain": [
       "((11, 12), 200)"
      ]
     },
     "execution_count": 2,
     "metadata": {},
     "output_type": "execute_result"
    }
   ],
   "source": [
    "## defining variables\n",
    "seed_value = (11,12) #for reproducible results\n",
    "array_size = 200\n",
    "\n",
    "seed_value, array_size"
   ]
  },
  {
   "cell_type": "code",
   "execution_count": 3,
   "id": "62bd5f53-8dbf-4699-a434-fd5688b4d931",
   "metadata": {},
   "outputs": [
    {
     "name": "stdout",
     "output_type": "stream",
     "text": [
      "[1 1 0 1 1 1]\n",
      "[1 1 0 1 1 0]\n",
      "200 200\n"
     ]
    }
   ],
   "source": [
    "## generating actuals and predictions\n",
    "\n",
    "np.random.seed(seed_value[0])\n",
    "actuals = np.random.randint(0,2,array_size)\n",
    "\n",
    "np.random.seed(seed_value[1])\n",
    "predictions = np.random.randint(0,2,array_size)\n",
    "\n",
    "print(actuals[:6])\n",
    "print(predictions[:6])\n",
    "print(actuals.size, predictions.size)"
   ]
  },
  {
   "cell_type": "code",
   "execution_count": 6,
   "id": "150040e4-6c13-4bdf-8681-62ac023edd9e",
   "metadata": {},
   "outputs": [
    {
     "name": "stdout",
     "output_type": "stream",
     "text": [
      "[[58 40]\n",
      " [48 54]]\n"
     ]
    }
   ],
   "source": [
    "# forming confusion matrix (actuals/predictions on horizontal/vertical axis respectively)\n",
    "# Hint : use confusion matric function which we imported earlier\n",
    "from sklearn.metrics import confusion_matrix\n",
    "cf=confusion_matrix(actuals,predictions)\n",
    "print(cf)"
   ]
  },
  {
   "cell_type": "code",
   "execution_count": 7,
   "id": "0a5b9439-b582-48f4-b8b1-c56eb28dcbb2",
   "metadata": {},
   "outputs": [
    {
     "name": "stdout",
     "output_type": "stream",
     "text": [
      "58 48 54 40\n"
     ]
    }
   ],
   "source": [
    "## Extract True Positive, True Negative, False Positive, False Negative\n",
    "## Note that all these values are corresponding to class 1\n",
    "\n",
    "#true positive\n",
    "tp = 58\n",
    "\n",
    "#false positive\n",
    "fp = 48\n",
    "\n",
    "#true negative\n",
    "tn = 54\n",
    "\n",
    "#false negative\n",
    "fn = 40\n",
    "\n",
    "print(tp,fp,tn,fn)"
   ]
  },
  {
   "cell_type": "code",
   "execution_count": 9,
   "id": "fa99ef41-cfa4-4109-92cf-876c42d3e661",
   "metadata": {},
   "outputs": [
    {
     "name": "stdout",
     "output_type": "stream",
     "text": [
      "54 40 58 48\n"
     ]
    }
   ],
   "source": [
    "def get_metrics_from_confusion_matrix(conf_matrix):\n",
    "    TP = conf_matrix[1, 1]\n",
    "    FP = conf_matrix[0, 1]\n",
    "    FN = conf_matrix[1, 0]\n",
    "    TN = conf_matrix[0, 0]\n",
    "    return TP, FP, FN, TN\n",
    "\n",
    "# Example confusion matrix as a NumPy array\n",
    "conf_matrix = np.array([[58, 40], [48, 54]])\n",
    "\n",
    "# Get TP, FP, FN, TN from the confusion matrix\n",
    "TP, FP, FN, TN = get_metrics_from_confusion_matrix(conf_matrix)\n",
    "\n",
    "print(TP, FP, TN, FN)\n"
   ]
  },
  {
   "cell_type": "code",
   "execution_count": 12,
   "id": "97fcd01c-0398-45e4-a725-c4c8ae3f681d",
   "metadata": {},
   "outputs": [
    {
     "data": {
      "text/plain": [
       "(0.574468085106383, 0.5294117647058824, 0.5510204081632654)"
      ]
     },
     "execution_count": 12,
     "metadata": {},
     "output_type": "execute_result"
    }
   ],
   "source": [
    "## Calculate Precision\n",
    "from sklearn.metrics import precision_score\n",
    "precision=precision_score(actuals,predictions)\n",
    "precision\n",
    "\n",
    "\n",
    "## Calculate Recall\n",
    "from sklearn.metrics import recall_score\n",
    "recall=recall_score(actuals,predictions)\n",
    "recall\n",
    "\n",
    "\n",
    "## Calculate f1 score\n",
    "f1=2/((1/precision)+(1/recall))\n",
    "f1\n",
    "\n",
    "precision, recall, f1"
   ]
  }
 ],
 "metadata": {
  "kernelspec": {
   "display_name": "Python 3 (ipykernel)",
   "language": "python",
   "name": "python3"
  },
  "language_info": {
   "codemirror_mode": {
    "name": "ipython",
    "version": 3
   },
   "file_extension": ".py",
   "mimetype": "text/x-python",
   "name": "python",
   "nbconvert_exporter": "python",
   "pygments_lexer": "ipython3",
   "version": "3.11.7"
  }
 },
 "nbformat": 4,
 "nbformat_minor": 5
}
